{
 "cells": [
  {
   "cell_type": "markdown",
   "id": "6c46f550-1fb4-4ef6-ab65-ff3934ba324d",
   "metadata": {},
   "source": [
    "### Assignment 1: Simple Calculator\n",
    "Create a basic calculator that allows the users to perform addition, subtraction, multiplication, and division operations on \n",
    "two numbers. Use a while loop to let the user perform multiple calculations. If the user enters the letter \"q\" it will stop the \n",
    "program."
   ]
  },
  {
   "cell_type": "code",
   "execution_count": 1,
   "id": "780f4b0a-411a-4f12-b3d6-dbabfa5bd142",
   "metadata": {},
   "outputs": [
    {
     "name": "stdout",
     "output_type": "stream",
     "text": [
      "\n",
      "Choose operation: \n",
      "[1] Addition                 [2] Subtraction\n",
      "[3] Multiplication           [4] Division\n",
      "\n"
     ]
    },
    {
     "name": "stdin",
     "output_type": "stream",
     "text": [
      "Your choice (1/2/3/4):  1\n",
      "Enter the 1st number:  2\n",
      "Enter the 2nd number:  2\n"
     ]
    },
    {
     "name": "stdout",
     "output_type": "stream",
     "text": [
      "2.0 + 2.0 = 4.0\n"
     ]
    },
    {
     "name": "stdin",
     "output_type": "stream",
     "text": [
      "Let's do another calculation? \n",
      "Press any keys to continue or Press [q] to quit: e\n"
     ]
    },
    {
     "name": "stdout",
     "output_type": "stream",
     "text": [
      "\n",
      "Choose operation: \n",
      "[1] Addition                 [2] Subtraction\n",
      "[3] Multiplication           [4] Division\n",
      "\n"
     ]
    },
    {
     "name": "stdin",
     "output_type": "stream",
     "text": [
      "Your choice (1/2/3/4):  2\n",
      "Enter the 1st number:  5\n",
      "Enter the 2nd number:  3\n"
     ]
    },
    {
     "name": "stdout",
     "output_type": "stream",
     "text": [
      "5.0 - 3.0 = 2.0\n"
     ]
    },
    {
     "name": "stdin",
     "output_type": "stream",
     "text": [
      "Let's do another calculation? \n",
      "Press any keys to continue or Press [q] to quit: 2\n"
     ]
    },
    {
     "name": "stdout",
     "output_type": "stream",
     "text": [
      "\n",
      "Choose operation: \n",
      "[1] Addition                 [2] Subtraction\n",
      "[3] Multiplication           [4] Division\n",
      "\n"
     ]
    },
    {
     "name": "stdin",
     "output_type": "stream",
     "text": [
      "Your choice (1/2/3/4):  3\n",
      "Enter the 1st number:  45\n",
      "Enter the 2nd number:  2\n"
     ]
    },
    {
     "name": "stdout",
     "output_type": "stream",
     "text": [
      "45.0 * 2.0 = 90.0\n"
     ]
    },
    {
     "name": "stdin",
     "output_type": "stream",
     "text": [
      "Let's do another calculation? \n",
      "Press any keys to continue or Press [q] to quit: f\n"
     ]
    },
    {
     "name": "stdout",
     "output_type": "stream",
     "text": [
      "\n",
      "Choose operation: \n",
      "[1] Addition                 [2] Subtraction\n",
      "[3] Multiplication           [4] Division\n",
      "\n"
     ]
    },
    {
     "name": "stdin",
     "output_type": "stream",
     "text": [
      "Your choice (1/2/3/4):  4\n",
      "Enter the 1st number:  4\n",
      "Enter the 2nd number:  3\n"
     ]
    },
    {
     "name": "stdout",
     "output_type": "stream",
     "text": [
      "4.0 / 3.0 = 1.3333333333333333\n"
     ]
    },
    {
     "name": "stdin",
     "output_type": "stream",
     "text": [
      "Let's do another calculation? \n",
      "Press any keys to continue or Press [q] to quit: 3\n"
     ]
    },
    {
     "name": "stdout",
     "output_type": "stream",
     "text": [
      "\n",
      "Choose operation: \n",
      "[1] Addition                 [2] Subtraction\n",
      "[3] Multiplication           [4] Division\n",
      "\n"
     ]
    },
    {
     "name": "stdin",
     "output_type": "stream",
     "text": [
      "Your choice (1/2/3/4):  5\n"
     ]
    },
    {
     "name": "stdout",
     "output_type": "stream",
     "text": [
      "Invalid input. Please enter a valid option (1/2/3/4).\n"
     ]
    },
    {
     "name": "stdin",
     "output_type": "stream",
     "text": [
      "Let's do another calculation? \n",
      "Press any keys to continue or Press [q] to quit: 4\n"
     ]
    },
    {
     "name": "stdout",
     "output_type": "stream",
     "text": [
      "\n",
      "Choose operation: \n",
      "[1] Addition                 [2] Subtraction\n",
      "[3] Multiplication           [4] Division\n",
      "\n"
     ]
    },
    {
     "name": "stdin",
     "output_type": "stream",
     "text": [
      "Your choice (1/2/3/4):  1\n",
      "Enter the 1st number:  1\n",
      "Enter the 2nd number:  w\n"
     ]
    },
    {
     "name": "stdout",
     "output_type": "stream",
     "text": [
      "Invalid input. Please enter a valid number.\n",
      "\n",
      "Choose operation: \n",
      "[1] Addition                 [2] Subtraction\n",
      "[3] Multiplication           [4] Division\n",
      "\n"
     ]
    },
    {
     "name": "stdin",
     "output_type": "stream",
     "text": [
      "Your choice (1/2/3/4):  1\n",
      "Enter the 1st number:  1\n",
      "Enter the 2nd number:  1\n"
     ]
    },
    {
     "name": "stdout",
     "output_type": "stream",
     "text": [
      "1.0 + 1.0 = 2.0\n"
     ]
    },
    {
     "name": "stdin",
     "output_type": "stream",
     "text": [
      "Let's do another calculation? \n",
      "Press any keys to continue or Press [q] to quit: q\n"
     ]
    }
   ],
   "source": [
    "while True:  \n",
    "    # Print the basic operation \n",
    "    print(\"\\nChoose operation: \")\n",
    "    print(\"[1] Addition                 [2] Subtraction\")\n",
    "    print(\"[3] Multiplication           [4] Division\\n\")\n",
    "   \n",
    "    try:\n",
    "        # Get the user's choice\n",
    "        choice = input(\"Your choice (1/2/3/4): \")\n",
    "\n",
    "        # Check if the choice is valid\n",
    "        if choice in ('1', '2', '3', '4'):\n",
    "            # Get the two numbers (allowing floats)\n",
    "            try:\n",
    "                num1 = float(input(\"Enter the 1st number: \"))\n",
    "                num2 = float(input(\"Enter the 2nd number: \"))\n",
    "            except ValueError:\n",
    "                print(\"Invalid input. Please enter a valid number.\")\n",
    "                continue\n",
    "4\n",
    "            # Perform the selected operation\n",
    "            if choice == '1':\n",
    "                print(f\"{num1} + {num2} = {num1 + num2}\")\n",
    "            elif choice == '2':\n",
    "                print(f\"{num1} - {num2} = {num1 - num2}\")\n",
    "            elif choice == '3':\n",
    "                print(f\"{num1} * {num2} = {num1 * num2}\")\n",
    "            elif choice == '4':\n",
    "                if num2 != 0:\n",
    "                    print(f\"{num1} / {num2} = {num1 / num2}\")\n",
    "                else:\n",
    "                    print(\"Error: Division by zero is not allowed.\")\n",
    "        else:\n",
    "            print(\"Invalid input. Please enter a valid option (1/2/3/4).\")\n",
    "\n",
    "        # Ask if the user wants another calculation\n",
    "        next_calculation = input(\"Let's do another calculation? \\nPress any keys to continue or Press [q] to quit:\")\n",
    "        if next_calculation.lower() == 'q':\n",
    "            break\n",
    "\n",
    "    except ValueError:\n",
    "        print(\"Invalid input. Please enter a number.\")\n",
    "\n",
    "    "
   ]
  },
  {
   "cell_type": "markdown",
   "id": "3b53185f-d677-479b-a86f-6a271fc23654",
   "metadata": {},
   "source": [
    "### Assignment 2: Multiplication Table Generator\n",
    "Create a program that generates and displays a multiplication table for a user-specified number."
   ]
  },
  {
   "cell_type": "code",
   "execution_count": 6,
   "id": "d13eb19f-9a99-4de4-8f04-ae19f4bcb8d5",
   "metadata": {},
   "outputs": [
    {
     "name": "stdin",
     "output_type": "stream",
     "text": [
      "Enter the desired number 2\n"
     ]
    },
    {
     "name": "stdout",
     "output_type": "stream",
     "text": [
      "2 x 0 = 0\n",
      "2 x 1 = 2\n",
      "2 x 2 = 4\n",
      "2 x 3 = 6\n",
      "2 x 4 = 8\n",
      "2 x 5 = 10\n",
      "2 x 6 = 12\n",
      "2 x 7 = 14\n",
      "2 x 8 = 16\n",
      "2 x 9 = 18\n",
      "2 x 10 = 20\n"
     ]
    }
   ],
   "source": [
    "num = int(input(\"Enter the desired number\"))\n",
    "# iterates the user-specified number through 1 - 10\n",
    "for i in range (1, 11):\n",
    "    print (num,\"x\",i,\"=\", num*i)"
   ]
  },
  {
   "cell_type": "code",
   "execution_count": null,
   "id": "5c00e69e-d105-48e5-9c8e-ba8122d7f832",
   "metadata": {},
   "outputs": [],
   "source": []
  }
 ],
 "metadata": {
  "kernelspec": {
   "display_name": "Python [conda env:base] *",
   "language": "python",
   "name": "conda-base-py"
  },
  "language_info": {
   "codemirror_mode": {
    "name": "ipython",
    "version": 3
   },
   "file_extension": ".py",
   "mimetype": "text/x-python",
   "name": "python",
   "nbconvert_exporter": "python",
   "pygments_lexer": "ipython3",
   "version": "3.12.7"
  }
 },
 "nbformat": 4,
 "nbformat_minor": 5
}
