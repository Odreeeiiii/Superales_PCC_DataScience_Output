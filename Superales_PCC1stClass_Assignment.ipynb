{
 "cells": [
  {
   "cell_type": "markdown",
   "id": "56828dcd-1671-44e8-abfc-20e4613edaa4",
   "metadata": {},
   "source": [
    "### Assignment\n",
    "1. Calculating Area of a Rectangle\n",
    "       - Prompt the user to enter the length and width of the rectangle and display on the output the area.\n",
    "2. Calculate Average of Three Numbers\n",
    "       - Prompt the user to enter three numbers, get the average, and display it on the output.\n",
    "3. Convert Miles to Kilometers\n",
    "       - Prompt the user to enter a distance in miles and display on the output in kilometers."
   ]
  },
  {
   "cell_type": "code",
   "execution_count": 9,
   "id": "ec6ee483-6d7f-45f5-a641-0f987018a3bc",
   "metadata": {},
   "outputs": [
    {
     "name": "stdin",
     "output_type": "stream",
     "text": [
      "Enter the length: 56\n",
      "Enter the width: 87\n"
     ]
    },
    {
     "name": "stdout",
     "output_type": "stream",
     "text": [
      "The area of the rectangle is 4872.0 square units.\n"
     ]
    }
   ],
   "source": [
    "#1 Calculating Area of a Rectangle\n",
    "length = float(input(\"Enter with length:\"))\n",
    "width = float (input(\"Enter with width:\"))\n",
    "area = length * width\n",
    "print (\"The area of the rectangle is\", area, \"square units.\")"
   ]
  },
  {
   "cell_type": "code",
   "execution_count": 12,
   "id": "046f1b76-a016-4b0d-ab71-4c3171cfa3fa",
   "metadata": {},
   "outputs": [
    {
     "name": "stdin",
     "output_type": "stream",
     "text": [
      "Enter the 1st Number:  84\n",
      "Enter the 2nd Number:  93\n",
      "Enter the 3rd Number:  78\n"
     ]
    },
    {
     "name": "stdout",
     "output_type": "stream",
     "text": [
      "85.0 is the total average of 3 numbers.\n"
     ]
    }
   ],
   "source": [
    "#2 Calculate Average of Three Numbers\n",
    "num1 = float(input(\"Enter with 1st Number: \")) \n",
    "num2 = float(input(\"Enter with 2nd Number: \")) \n",
    "num3 = float(input(\"Enter with 3rd Number: \")) \n",
    "ave = (num1 + num2 + num3) / 3\n",
    "print (ave, \"is the total average of 3 numbers.\" )"
   ]
  },
  {
   "cell_type": "code",
   "execution_count": 18,
   "id": "bbd10988-3d25-43ef-b192-861003fc9a67",
   "metadata": {},
   "outputs": [
    {
     "name": "stdin",
     "output_type": "stream",
     "text": [
      "Enter the Mile: 45\n"
     ]
    },
    {
     "name": "stdout",
     "output_type": "stream",
     "text": [
      "Kilometer: 72.42048\n"
     ]
    }
   ],
   "source": [
    "#3 Convert Miles to Kilometers\n",
    "mile = float(input(\"Enter the Mile:\"))\n",
    "km = mile * 1.609344\n",
    "print (\"Kilometer:\", km)"
   ]
  },
  {
   "cell_type": "code",
   "execution_count": null,
   "id": "145a430b-282a-44f7-8ff4-410ef15e5cd7",
   "metadata": {},
   "outputs": [],
   "source": []
  }
 ],
 "metadata": {
  "kernelspec": {
   "display_name": "Python 3 (ipykernel)",
   "language": "python",
   "name": "python3"
  },
  "language_info": {
   "codemirror_mode": {
    "name": "ipython",
    "version": 3
   },
   "file_extension": ".py",
   "mimetype": "text/x-python",
   "name": "python",
   "nbconvert_exporter": "python",
   "pygments_lexer": "ipython3",
   "version": "3.12.7"
  }
 },
 "nbformat": 4,
 "nbformat_minor": 5
}
